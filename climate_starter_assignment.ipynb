{
 "cells": [
  {
   "cell_type": "code",
   "execution_count": 1,
   "metadata": {},
   "outputs": [],
   "source": [
    "%matplotlib inline\n",
    "from matplotlib import style\n",
    "style.use('fivethirtyeight')\n",
    "import matplotlib.pyplot as plt"
   ]
  },
  {
   "cell_type": "code",
   "execution_count": 2,
   "metadata": {},
   "outputs": [],
   "source": [
    "import numpy as np\n",
    "import pandas as pd"
   ]
  },
  {
   "cell_type": "code",
   "execution_count": 3,
   "metadata": {},
   "outputs": [],
   "source": [
    "import datetime as dt"
   ]
  },
  {
   "cell_type": "markdown",
   "metadata": {},
   "source": [
    "# Reflect Tables into SQLAlchemy ORM"
   ]
  },
  {
   "cell_type": "code",
   "execution_count": 4,
   "metadata": {},
   "outputs": [],
   "source": [
    "# Python SQL toolkit and Object Relational Mapper\n",
    "import sqlalchemy\n",
    "from sqlalchemy.ext.automap import automap_base\n",
    "from sqlalchemy.orm import Session\n",
    "from sqlalchemy import create_engine, func"
   ]
  },
  {
   "cell_type": "code",
   "execution_count": 5,
   "metadata": {},
   "outputs": [],
   "source": [
    "engine = create_engine(\"sqlite:///Resources/hawaii.sqlite\")"
   ]
  },
  {
   "cell_type": "code",
   "execution_count": 6,
   "metadata": {},
   "outputs": [],
   "source": [
    "# reflect an existing database into a new model\n",
    "base = automap_base()\n",
    "# reflect the tables\n",
    "base.prepare(engine, reflect=True)"
   ]
  },
  {
   "cell_type": "code",
   "execution_count": 7,
   "metadata": {},
   "outputs": [
    {
     "data": {
      "text/plain": [
       "['measurement', 'station']"
      ]
     },
     "execution_count": 7,
     "metadata": {},
     "output_type": "execute_result"
    }
   ],
   "source": [
    "# We can view all of the classes that automap found\n",
    "base.classes.keys()"
   ]
  },
  {
   "cell_type": "code",
   "execution_count": 8,
   "metadata": {},
   "outputs": [],
   "source": [
    "# Save references to each table\n",
    "Measurement = base.classes.measurement\n",
    "Station = base.classes.station"
   ]
  },
  {
   "cell_type": "code",
   "execution_count": 9,
   "metadata": {},
   "outputs": [],
   "source": [
    "# Create our session (link) from Python to the DB\n",
    "session = Session(engine)"
   ]
  },
  {
   "cell_type": "markdown",
   "metadata": {},
   "source": [
    "# Exploratory Climate Analysis"
   ]
  },
  {
   "cell_type": "code",
   "execution_count": 32,
   "metadata": {},
   "outputs": [
    {
     "data": {
      "text/plain": [
       "[('2016-08-23', 0.0),\n",
       " ('2016-08-24', 0.08),\n",
       " ('2016-08-25', 0.08),\n",
       " ('2016-08-26', 0.0),\n",
       " ('2016-08-27', 0.0),\n",
       " ('2016-08-28', 0.01),\n",
       " ('2016-08-29', 0.0),\n",
       " ('2016-08-30', 0.0),\n",
       " ('2016-08-31', 0.13),\n",
       " ('2016-09-01', 0.0),\n",
       " ('2016-09-02', 0.0),\n",
       " ('2016-09-03', 0.0),\n",
       " ('2016-09-04', 0.03),\n",
       " ('2016-09-05', None),\n",
       " ('2016-09-06', None),\n",
       " ('2016-09-07', 0.05),\n",
       " ('2016-09-08', 0.0),\n",
       " ('2016-09-09', 0.03),\n",
       " ('2016-09-10', 0.0),\n",
       " ('2016-09-11', 0.05),\n",
       " ('2016-09-12', 0.0),\n",
       " ('2016-09-13', 0.02),\n",
       " ('2016-09-14', 1.32),\n",
       " ('2016-09-15', 0.42),\n",
       " ('2016-09-16', 0.06),\n",
       " ('2016-09-17', 0.05),\n",
       " ('2016-09-18', 0.0),\n",
       " ('2016-09-19', 0.0),\n",
       " ('2016-09-20', 0.0),\n",
       " ('2016-09-21', 0.0),\n",
       " ('2016-09-22', 0.02),\n",
       " ('2016-09-23', 0.0),\n",
       " ('2016-09-24', 0.0),\n",
       " ('2016-09-25', 0.0),\n",
       " ('2016-09-26', 0.06),\n",
       " ('2016-09-27', 0.02),\n",
       " ('2016-09-28', 0.0),\n",
       " ('2016-09-29', 0.0),\n",
       " ('2016-09-30', 0.0),\n",
       " ('2016-10-01', 0.0),\n",
       " ('2016-10-02', 0.0),\n",
       " ('2016-10-03', 0.0),\n",
       " ('2016-10-04', 0.0),\n",
       " ('2016-10-05', 0.0),\n",
       " ('2016-10-06', 0.0),\n",
       " ('2016-10-07', 0.0),\n",
       " ('2016-10-08', 0.0),\n",
       " ('2016-10-09', 0.0),\n",
       " ('2016-10-10', 0.0),\n",
       " ('2016-10-11', 0.0),\n",
       " ('2016-10-12', 0.0),\n",
       " ('2016-10-13', 0.0),\n",
       " ('2016-10-14', 0.0),\n",
       " ('2016-10-15', 0.0),\n",
       " ('2016-10-16', 0.0),\n",
       " ('2016-10-17', 0.01),\n",
       " ('2016-10-18', 0.0),\n",
       " ('2016-10-19', 0.0),\n",
       " ('2016-10-20', 0.0),\n",
       " ('2016-10-21', 0.05),\n",
       " ('2016-10-22', 0.15),\n",
       " ('2016-10-23', 0.01),\n",
       " ('2016-10-24', 0.0),\n",
       " ('2016-10-25', 0.03),\n",
       " ('2016-10-26', 0.0),\n",
       " ('2016-10-27', 0.0),\n",
       " ('2016-10-28', 0.0),\n",
       " ('2016-10-29', 0.0),\n",
       " ('2016-10-30', 0.24),\n",
       " ('2016-10-31', 0.03),\n",
       " ('2016-11-01', 0.0),\n",
       " ('2016-11-02', 0.0),\n",
       " ('2016-11-03', 0.0),\n",
       " ('2016-11-04', 0.0),\n",
       " ('2016-11-05', 0.0),\n",
       " ('2016-11-06', 0.0),\n",
       " ('2016-11-07', 0.0),\n",
       " ('2016-11-08', 0.07),\n",
       " ('2016-11-09', 0.0),\n",
       " ('2016-11-10', 0.0),\n",
       " ('2016-11-11', 0.0),\n",
       " ('2016-11-12', 0.0),\n",
       " ('2016-11-13', 0.0),\n",
       " ('2016-11-14', 0.0),\n",
       " ('2016-11-15', 0.0),\n",
       " ('2016-11-16', 0.0),\n",
       " ('2016-11-17', 0.0),\n",
       " ('2016-11-18', 0.0),\n",
       " ('2016-11-19', 0.03),\n",
       " ('2016-11-20', 0.05),\n",
       " ('2016-11-21', 0.01),\n",
       " ('2016-11-22', 0.13),\n",
       " ('2016-11-23', 0.14),\n",
       " ('2016-11-24', 0.05),\n",
       " ('2016-11-25', 0.05),\n",
       " ('2016-11-26', 0.05),\n",
       " ('2016-11-27', 0.0),\n",
       " ('2016-11-28', 0.01),\n",
       " ('2016-11-29', 0.0),\n",
       " ('2016-11-30', 0.14),\n",
       " ('2016-12-01', 0.12),\n",
       " ('2016-12-02', 0.03),\n",
       " ('2016-12-03', 0.0),\n",
       " ('2016-12-04', 0.03),\n",
       " ('2016-12-05', 0.43),\n",
       " ('2016-12-06', 0.02),\n",
       " ('2016-12-07', 0.0),\n",
       " ('2016-12-08', 0.03),\n",
       " ('2016-12-09', 0.52),\n",
       " ('2016-12-10', 0.05),\n",
       " ('2016-12-11', 0.04),\n",
       " ('2016-12-12', 0.01),\n",
       " ('2016-12-13', 0.05),\n",
       " ('2016-12-14', 0.03),\n",
       " ('2016-12-15', 0.0),\n",
       " ('2016-12-16', 0.0),\n",
       " ('2016-12-17', 0.01),\n",
       " ('2016-12-18', 0.13),\n",
       " ('2016-12-19', 0.01),\n",
       " ('2016-12-20', 0.0),\n",
       " ('2016-12-21', 0.0),\n",
       " ('2016-12-22', 0.01),\n",
       " ('2016-12-23', 0.01),\n",
       " ('2016-12-24', 0.01),\n",
       " ('2016-12-25', 0.0),\n",
       " ('2016-12-26', 0.02),\n",
       " ('2016-12-27', 0.0),\n",
       " ('2016-12-28', 0.02),\n",
       " ('2016-12-29', 0.04),\n",
       " ('2016-12-30', 0.12),\n",
       " ('2016-12-31', 0.01),\n",
       " ('2017-01-01', 0.0),\n",
       " ('2017-01-02', 0.0),\n",
       " ('2017-01-03', 0.0),\n",
       " ('2017-01-04', 0.0),\n",
       " ('2017-01-05', 0.0),\n",
       " ('2017-01-06', 0.0),\n",
       " ('2017-01-07', 0.0),\n",
       " ('2017-01-08', 0.0),\n",
       " ('2017-01-09', 0.0),\n",
       " ('2017-01-10', 0.0),\n",
       " ('2017-01-11', 0.0),\n",
       " ('2017-01-12', 0.0),\n",
       " ('2017-01-13', 0.0),\n",
       " ('2017-01-14', 0.0),\n",
       " ('2017-01-15', 0.0),\n",
       " ('2017-01-16', 0.0),\n",
       " ('2017-01-17', 0.0),\n",
       " ('2017-01-18', 0.0),\n",
       " ('2017-01-19', 0.0),\n",
       " ('2017-01-20', 0.0),\n",
       " ('2017-01-21', 0.0),\n",
       " ('2017-01-22', 0.16),\n",
       " ('2017-01-23', 0.0),\n",
       " ('2017-01-24', 0.04),\n",
       " ('2017-01-25', 0.03),\n",
       " ('2017-01-26', 0.0),\n",
       " ('2017-01-27', 0.0),\n",
       " ('2017-01-28', 0.0),\n",
       " ('2017-01-29', 0.18),\n",
       " ('2017-01-30', 0.0),\n",
       " ('2017-01-31', 0.0),\n",
       " ('2017-02-01', 0.0),\n",
       " ('2017-02-02', 0.0),\n",
       " ('2017-02-03', 0.0),\n",
       " ('2017-02-04', 0.0),\n",
       " ('2017-02-05', 0.0),\n",
       " ('2017-02-06', 0.0),\n",
       " ('2017-02-07', 0.51),\n",
       " ('2017-02-08', 0.0),\n",
       " ('2017-02-09', 0.0),\n",
       " ('2017-02-10', 0.0),\n",
       " ('2017-02-11', 0.31),\n",
       " ('2017-02-12', 2.62),\n",
       " ('2017-02-13', 0.01),\n",
       " ('2017-02-14', 0.0),\n",
       " ('2017-02-15', 0.0),\n",
       " ('2017-02-16', 0.07),\n",
       " ('2017-02-17', 0.0),\n",
       " ('2017-02-18', 0.0),\n",
       " ('2017-02-19', 0.0),\n",
       " ('2017-02-20', 0.0),\n",
       " ('2017-02-21', 0.06),\n",
       " ('2017-02-22', 0.06),\n",
       " ('2017-02-23', 0.01),\n",
       " ('2017-02-24', 0.0),\n",
       " ('2017-02-25', 0.03),\n",
       " ('2017-02-26', 0.0),\n",
       " ('2017-02-27', 0.0),\n",
       " ('2017-02-28', 0.0),\n",
       " ('2017-03-01', 1.19),\n",
       " ('2017-03-02', 0.73),\n",
       " ('2017-03-03', 0.47),\n",
       " ('2017-03-04', 0.0),\n",
       " ('2017-03-05', 0.35),\n",
       " ('2017-03-06', 0.0),\n",
       " ('2017-03-07', 0.0),\n",
       " ('2017-03-08', 0.0),\n",
       " ('2017-03-09', 0.0),\n",
       " ('2017-03-10', 0.0),\n",
       " ('2017-03-11', 0.0),\n",
       " ('2017-03-12', 0.0),\n",
       " ('2017-03-13', 0.0),\n",
       " ('2017-03-14', 0.0),\n",
       " ('2017-03-15', 0.0),\n",
       " ('2017-03-16', 0.0),\n",
       " ('2017-03-17', 0.0),\n",
       " ('2017-03-18', 0.0),\n",
       " ('2017-03-19', 0.0),\n",
       " ('2017-03-20', 0.0),\n",
       " ('2017-03-21', 0.0),\n",
       " ('2017-03-22', 0.0),\n",
       " ('2017-03-23', 0.0),\n",
       " ('2017-03-24', 0.02),\n",
       " ('2017-03-25', 0.0),\n",
       " ('2017-03-26', 0.0),\n",
       " ('2017-03-27', 0.0),\n",
       " ('2017-03-28', 0.0),\n",
       " ('2017-03-29', 0.0),\n",
       " ('2017-03-30', 0.0),\n",
       " ('2017-03-31', 0.0),\n",
       " ('2017-04-01', 0.0),\n",
       " ('2017-04-02', 0.0),\n",
       " ('2017-04-03', 0.0),\n",
       " ('2017-04-04', 0.0),\n",
       " ('2017-04-05', 0.0),\n",
       " ('2017-04-06', 0.0),\n",
       " ('2017-04-07', 0.0),\n",
       " ('2017-04-08', 0.0),\n",
       " ('2017-04-09', 0.0),\n",
       " ('2017-04-10', 0.0),\n",
       " ('2017-04-11', 0.0),\n",
       " ('2017-04-12', 0.0),\n",
       " ('2017-04-13', 0.0),\n",
       " ('2017-04-14', 0.26),\n",
       " ('2017-04-15', 0.01),\n",
       " ('2017-04-16', 0.0),\n",
       " ('2017-04-17', 0.02),\n",
       " ('2017-04-18', 0.0),\n",
       " ('2017-04-19', 0.02),\n",
       " ('2017-04-20', 0.05),\n",
       " ('2017-04-21', 0.23),\n",
       " ('2017-04-22', 0.32),\n",
       " ('2017-04-23', 0.03),\n",
       " ('2017-04-24', 0.0),\n",
       " ('2017-04-25', 0.0),\n",
       " ('2017-04-26', 0.0),\n",
       " ('2017-04-27', 0.0),\n",
       " ('2017-04-28', 0.0),\n",
       " ('2017-04-29', 0.12),\n",
       " ('2017-04-30', 0.89),\n",
       " ('2017-05-01', 0.26),\n",
       " ('2017-05-02', 0.0),\n",
       " ('2017-05-03', 0.0),\n",
       " ('2017-05-04', 0.0),\n",
       " ('2017-05-05', 0.0),\n",
       " ('2017-05-06', 0.0),\n",
       " ('2017-05-07', 0.0),\n",
       " ('2017-05-08', 0.0),\n",
       " ('2017-05-09', 1.62),\n",
       " ('2017-05-10', 0.0),\n",
       " ('2017-05-11', 0.01),\n",
       " ('2017-05-12', 0.0),\n",
       " ('2017-05-13', 0.0),\n",
       " ('2017-05-14', 0.0),\n",
       " ('2017-05-15', 0.05),\n",
       " ('2017-05-16', 0.01),\n",
       " ('2017-05-17', 0.0),\n",
       " ('2017-05-18', 0.01),\n",
       " ('2017-05-19', 0.0),\n",
       " ('2017-05-20', 0.0),\n",
       " ('2017-05-21', 0.0),\n",
       " ('2017-05-22', 0.0),\n",
       " ('2017-05-23', 0.08),\n",
       " ('2017-05-24', 0.13),\n",
       " ('2017-05-25', 0.15),\n",
       " ('2017-05-26', 0.02),\n",
       " ('2017-05-27', 0.01),\n",
       " ('2017-05-28', 0.02),\n",
       " ('2017-05-29', 0.0),\n",
       " ('2017-05-30', 0.26),\n",
       " ('2017-05-31', 0.02),\n",
       " ('2017-06-01', 0.0),\n",
       " ('2017-06-02', 0.0),\n",
       " ('2017-06-03', 0.02),\n",
       " ('2017-06-04', 0.0),\n",
       " ('2017-06-05', 0.0),\n",
       " ('2017-06-06', 0.0),\n",
       " ('2017-06-07', 0.0),\n",
       " ('2017-06-08', 0.0),\n",
       " ('2017-06-09', 0.0),\n",
       " ('2017-06-10', 0.04),\n",
       " ('2017-06-11', 0.08),\n",
       " ('2017-06-12', 0.02),\n",
       " ('2017-06-13', 0.0),\n",
       " ('2017-06-14', 0.0),\n",
       " ('2017-06-15', 0.0),\n",
       " ('2017-06-16', 0.0),\n",
       " ('2017-06-17', 0.0),\n",
       " ('2017-06-18', 0.05),\n",
       " ('2017-06-19', 0.0),\n",
       " ('2017-06-20', 0.02),\n",
       " ('2017-06-21', 0.0),\n",
       " ('2017-06-22', 0.0),\n",
       " ('2017-06-23', 0.0),\n",
       " ('2017-06-24', 0.06),\n",
       " ('2017-06-25', 0.0),\n",
       " ('2017-06-26', 0.0),\n",
       " ('2017-06-27', 0.0),\n",
       " ('2017-06-28', 0.0),\n",
       " ('2017-06-29', 0.0),\n",
       " ('2017-06-30', 0.08),\n",
       " ('2017-07-01', 0.02),\n",
       " ('2017-07-02', 0.02),\n",
       " ('2017-07-03', 0.04),\n",
       " ('2017-07-04', 0.04),\n",
       " ('2017-07-05', 0.0),\n",
       " ('2017-07-06', 0.0),\n",
       " ('2017-07-07', 0.0),\n",
       " ('2017-07-08', 0.0),\n",
       " ('2017-07-09', 0.0),\n",
       " ('2017-07-10', 0.0),\n",
       " ('2017-07-11', 0.0),\n",
       " ('2017-07-12', 0.0),\n",
       " ('2017-07-13', 0.07),\n",
       " ('2017-07-14', 0.02),\n",
       " ('2017-07-15', 0.0),\n",
       " ('2017-07-16', 0.02),\n",
       " ('2017-07-17', 0.03),\n",
       " ('2017-07-18', 0.05),\n",
       " ('2017-07-19', 0.0),\n",
       " ('2017-07-20', 0.03),\n",
       " ('2017-07-21', 0.0),\n",
       " ('2017-07-22', 0.03),\n",
       " ('2017-07-23', 0.0),\n",
       " ('2017-07-24', 0.05),\n",
       " ('2017-07-25', 0.0),\n",
       " ('2017-07-26', 0.0),\n",
       " ('2017-07-27', 0.0),\n",
       " ('2017-07-28', 0.0),\n",
       " ('2017-07-29', 0.0),\n",
       " ('2017-07-30', 0.0),\n",
       " ('2017-07-31', 0.0),\n",
       " ('2017-08-01', 0.02),\n",
       " ('2017-08-02', 0.0),\n",
       " ('2017-08-03', 0.0),\n",
       " ('2017-08-04', 0.02),\n",
       " ('2017-08-05', 0.0),\n",
       " ('2017-08-06', 0.0),\n",
       " ('2017-08-07', 0.0),\n",
       " ('2017-08-08', 0.0),\n",
       " ('2017-08-09', 0.0),\n",
       " ('2017-08-10', 0.0),\n",
       " ('2017-08-11', 0.0),\n",
       " ('2017-08-12', 0.0),\n",
       " ('2017-08-13', 0.0),\n",
       " ('2017-08-14', 0.0),\n",
       " ('2017-08-15', 0.02),\n",
       " ('2017-08-16', 0.0),\n",
       " ('2017-08-17', 0.0),\n",
       " ('2017-08-18', 0.0),\n",
       " ('2017-08-19', 0.0),\n",
       " ('2017-08-20', 0.0),\n",
       " ('2017-08-21', 0.0),\n",
       " ('2017-08-22', 0.0),\n",
       " ('2017-08-23', 0.0)]"
      ]
     },
     "execution_count": 32,
     "metadata": {},
     "output_type": "execute_result"
    }
   ],
   "source": [
    "# Design a query to retrieve the last 12 months of precipitation data and plot the results\n",
    "\n",
    "year,month,day = last_date.split('-')\n",
    "query_date = dt.date(int(year),int(month),int(day)) - dt.timedelta(days=365)\n",
    "\n",
    "last = session.query(Measurement.date).order_by(Measurement.date.desc()).first()\n",
    "last_date, = last\n",
    "\n",
    "pt_data = session.query(Measurement.date, Measurement.prcp).filter(Measurement.date >= query_date).group_by(Measurement.date).all()\n",
    "pt_data"
   ]
  },
  {
   "cell_type": "code",
   "execution_count": 36,
   "metadata": {},
   "outputs": [
    {
     "name": "stdout",
     "output_type": "stream",
     "text": [
      "Last data point:  2017-08-23\n"
     ]
    }
   ],
   "source": [
    "# Calculate the date 1 year ago from the last data point in the database\n",
    "\n",
    "print(\"Last data point: \",last_date)"
   ]
  },
  {
   "cell_type": "code",
   "execution_count": 34,
   "metadata": {},
   "outputs": [
    {
     "data": {
      "text/html": [
       "<div>\n",
       "<style scoped>\n",
       "    .dataframe tbody tr th:only-of-type {\n",
       "        vertical-align: middle;\n",
       "    }\n",
       "\n",
       "    .dataframe tbody tr th {\n",
       "        vertical-align: top;\n",
       "    }\n",
       "\n",
       "    .dataframe thead th {\n",
       "        text-align: right;\n",
       "    }\n",
       "</style>\n",
       "<table border=\"1\" class=\"dataframe\">\n",
       "  <thead>\n",
       "    <tr style=\"text-align: right;\">\n",
       "      <th></th>\n",
       "      <th>date</th>\n",
       "      <th>prcp</th>\n",
       "    </tr>\n",
       "  </thead>\n",
       "  <tbody>\n",
       "    <tr>\n",
       "      <td>0</td>\n",
       "      <td>2016-08-23</td>\n",
       "      <td>0.00</td>\n",
       "    </tr>\n",
       "    <tr>\n",
       "      <td>1</td>\n",
       "      <td>2016-08-24</td>\n",
       "      <td>0.08</td>\n",
       "    </tr>\n",
       "    <tr>\n",
       "      <td>2</td>\n",
       "      <td>2016-08-25</td>\n",
       "      <td>0.08</td>\n",
       "    </tr>\n",
       "    <tr>\n",
       "      <td>3</td>\n",
       "      <td>2016-08-26</td>\n",
       "      <td>0.00</td>\n",
       "    </tr>\n",
       "    <tr>\n",
       "      <td>4</td>\n",
       "      <td>2016-08-27</td>\n",
       "      <td>0.00</td>\n",
       "    </tr>\n",
       "  </tbody>\n",
       "</table>\n",
       "</div>"
      ],
      "text/plain": [
       "         date  prcp\n",
       "0  2016-08-23  0.00\n",
       "1  2016-08-24  0.08\n",
       "2  2016-08-25  0.08\n",
       "3  2016-08-26  0.00\n",
       "4  2016-08-27  0.00"
      ]
     },
     "execution_count": 34,
     "metadata": {},
     "output_type": "execute_result"
    }
   ],
   "source": [
    "# Perform a query to retrieve the data and precipitation scores\n",
    "\n",
    "pt_data = pd.DataFrame(pt_data)\n",
    "pt_data.head()"
   ]
  },
  {
   "cell_type": "code",
   "execution_count": 106,
   "metadata": {},
   "outputs": [
    {
     "ename": "KeyError",
     "evalue": "\"None of ['date'] are in the columns\"",
     "output_type": "error",
     "traceback": [
      "\u001b[1;31m---------------------------------------------------------------------------\u001b[0m",
      "\u001b[1;31mKeyError\u001b[0m                                  Traceback (most recent call last)",
      "\u001b[1;32m<ipython-input-106-7b9b4a262385>\u001b[0m in \u001b[0;36m<module>\u001b[1;34m\u001b[0m\n\u001b[0;32m      1\u001b[0m \u001b[1;31m# Save the query results as a Pandas DataFrame and set the index to the date column\u001b[0m\u001b[1;33m\u001b[0m\u001b[1;33m\u001b[0m\u001b[1;33m\u001b[0m\u001b[0m\n\u001b[0;32m      2\u001b[0m \u001b[1;33m\u001b[0m\u001b[0m\n\u001b[1;32m----> 3\u001b[1;33m \u001b[0mdf\u001b[0m \u001b[1;33m=\u001b[0m \u001b[0mpt_data\u001b[0m\u001b[1;33m.\u001b[0m\u001b[0mset_index\u001b[0m\u001b[1;33m(\u001b[0m\u001b[1;34m\"date\"\u001b[0m\u001b[1;33m)\u001b[0m\u001b[1;33m\u001b[0m\u001b[1;33m\u001b[0m\u001b[0m\n\u001b[0m\u001b[0;32m      4\u001b[0m \u001b[0mdf_head\u001b[0m\u001b[1;33m(\u001b[0m\u001b[1;33m)\u001b[0m\u001b[1;33m\u001b[0m\u001b[1;33m\u001b[0m\u001b[0m\n",
      "\u001b[1;32m~\\Anaconda3\\lib\\site-packages\\pandas\\core\\frame.py\u001b[0m in \u001b[0;36mset_index\u001b[1;34m(self, keys, drop, append, inplace, verify_integrity)\u001b[0m\n\u001b[0;32m   4394\u001b[0m \u001b[1;33m\u001b[0m\u001b[0m\n\u001b[0;32m   4395\u001b[0m         \u001b[1;32mif\u001b[0m \u001b[0mmissing\u001b[0m\u001b[1;33m:\u001b[0m\u001b[1;33m\u001b[0m\u001b[1;33m\u001b[0m\u001b[0m\n\u001b[1;32m-> 4396\u001b[1;33m             \u001b[1;32mraise\u001b[0m \u001b[0mKeyError\u001b[0m\u001b[1;33m(\u001b[0m\u001b[1;34m\"None of {} are in the columns\"\u001b[0m\u001b[1;33m.\u001b[0m\u001b[0mformat\u001b[0m\u001b[1;33m(\u001b[0m\u001b[0mmissing\u001b[0m\u001b[1;33m)\u001b[0m\u001b[1;33m)\u001b[0m\u001b[1;33m\u001b[0m\u001b[1;33m\u001b[0m\u001b[0m\n\u001b[0m\u001b[0;32m   4397\u001b[0m \u001b[1;33m\u001b[0m\u001b[0m\n\u001b[0;32m   4398\u001b[0m         \u001b[1;32mif\u001b[0m \u001b[0minplace\u001b[0m\u001b[1;33m:\u001b[0m\u001b[1;33m\u001b[0m\u001b[1;33m\u001b[0m\u001b[0m\n",
      "\u001b[1;31mKeyError\u001b[0m: \"None of ['date'] are in the columns\""
     ]
    }
   ],
   "source": [
    "# Save the query results as a Pandas DataFrame and set the index to the date column\n",
    "\n",
    "df = pt_data.set_index(\"date\")\n",
    "df_head()"
   ]
  },
  {
   "cell_type": "code",
   "execution_count": 51,
   "metadata": {},
   "outputs": [
    {
     "data": {
      "text/html": [
       "<div>\n",
       "<style scoped>\n",
       "    .dataframe tbody tr th:only-of-type {\n",
       "        vertical-align: middle;\n",
       "    }\n",
       "\n",
       "    .dataframe tbody tr th {\n",
       "        vertical-align: top;\n",
       "    }\n",
       "\n",
       "    .dataframe thead th {\n",
       "        text-align: right;\n",
       "    }\n",
       "</style>\n",
       "<table border=\"1\" class=\"dataframe\">\n",
       "  <thead>\n",
       "    <tr style=\"text-align: right;\">\n",
       "      <th></th>\n",
       "      <th>prcp</th>\n",
       "    </tr>\n",
       "    <tr>\n",
       "      <th>date</th>\n",
       "      <th></th>\n",
       "    </tr>\n",
       "  </thead>\n",
       "  <tbody>\n",
       "    <tr>\n",
       "      <td>2016-08-23</td>\n",
       "      <td>0.00</td>\n",
       "    </tr>\n",
       "    <tr>\n",
       "      <td>2016-08-24</td>\n",
       "      <td>0.08</td>\n",
       "    </tr>\n",
       "    <tr>\n",
       "      <td>2016-08-25</td>\n",
       "      <td>0.08</td>\n",
       "    </tr>\n",
       "    <tr>\n",
       "      <td>2016-08-26</td>\n",
       "      <td>0.00</td>\n",
       "    </tr>\n",
       "    <tr>\n",
       "      <td>2016-08-27</td>\n",
       "      <td>0.00</td>\n",
       "    </tr>\n",
       "  </tbody>\n",
       "</table>\n",
       "</div>"
      ],
      "text/plain": [
       "            prcp\n",
       "date            \n",
       "2016-08-23  0.00\n",
       "2016-08-24  0.08\n",
       "2016-08-25  0.08\n",
       "2016-08-26  0.00\n",
       "2016-08-27  0.00"
      ]
     },
     "execution_count": 51,
     "metadata": {},
     "output_type": "execute_result"
    }
   ],
   "source": [
    "# Sort the dataframe by date\n",
    "pt_data.sort_values([\"date\"]).head()\n"
   ]
  },
  {
   "cell_type": "code",
   "execution_count": 52,
   "metadata": {},
   "outputs": [
    {
     "data": {
      "image/png": "[encoded data removed]",
      "text/plain": [
       "<Figure size 432x288 with 1 Axes>"
      ]
     },
     "metadata": {
      "needs_background": "light"
     },
     "output_type": "display_data"
    }
   ],
   "source": [
    "# Use Pandas Plotting with Matplotlib to plot the data\n",
    "pt_data.plot()\n",
    "plt.xlabel(\"Date\")\n",
    "plt.ylabel(\"Inches\")\n",
    "plt.title(\"Analysis\")\n",
    "plt.legend([\"Precipitation\"])\n",
    "plt.show()\n",
    "\n"
   ]
  },
  {
   "cell_type": "code",
   "execution_count": 53,
   "metadata": {},
   "outputs": [
    {
     "data": {
      "text/html": [
       "<div>\n",
       "<style scoped>\n",
       "    .dataframe tbody tr th:only-of-type {\n",
       "        vertical-align: middle;\n",
       "    }\n",
       "\n",
       "    .dataframe tbody tr th {\n",
       "        vertical-align: top;\n",
       "    }\n",
       "\n",
       "    .dataframe thead th {\n",
       "        text-align: right;\n",
       "    }\n",
       "</style>\n",
       "<table border=\"1\" class=\"dataframe\">\n",
       "  <thead>\n",
       "    <tr style=\"text-align: right;\">\n",
       "      <th></th>\n",
       "      <th>prcp</th>\n",
       "    </tr>\n",
       "  </thead>\n",
       "  <tbody>\n",
       "    <tr>\n",
       "      <td>count</td>\n",
       "      <td>364.000000</td>\n",
       "    </tr>\n",
       "    <tr>\n",
       "      <td>mean</td>\n",
       "      <td>0.048709</td>\n",
       "    </tr>\n",
       "    <tr>\n",
       "      <td>std</td>\n",
       "      <td>0.204930</td>\n",
       "    </tr>\n",
       "    <tr>\n",
       "      <td>min</td>\n",
       "      <td>0.000000</td>\n",
       "    </tr>\n",
       "    <tr>\n",
       "      <td>25%</td>\n",
       "      <td>0.000000</td>\n",
       "    </tr>\n",
       "    <tr>\n",
       "      <td>50%</td>\n",
       "      <td>0.000000</td>\n",
       "    </tr>\n",
       "    <tr>\n",
       "      <td>75%</td>\n",
       "      <td>0.020000</td>\n",
       "    </tr>\n",
       "    <tr>\n",
       "      <td>max</td>\n",
       "      <td>2.620000</td>\n",
       "    </tr>\n",
       "  </tbody>\n",
       "</table>\n",
       "</div>"
      ],
      "text/plain": [
       "             prcp\n",
       "count  364.000000\n",
       "mean     0.048709\n",
       "std      0.204930\n",
       "min      0.000000\n",
       "25%      0.000000\n",
       "50%      0.000000\n",
       "75%      0.020000\n",
       "max      2.620000"
      ]
     },
     "execution_count": 53,
     "metadata": {},
     "output_type": "execute_result"
    }
   ],
   "source": [
    "# Use Pandas to calcualte the summary statistics for the precipitation data\n",
    "pt_data.describe()"
   ]
  },
  {
   "cell_type": "code",
   "execution_count": 54,
   "metadata": {},
   "outputs": [
    {
     "name": "stdout",
     "output_type": "stream",
     "text": [
      "There are 9 stations available in this dataset.\n"
     ]
    }
   ],
   "source": [
    "# Design a query to show how many stations are available in this dataset?\n",
    "\n",
    "stations = session.query(Measurement.station).group_by(Measurement.station).count()\n",
    "print(f'There are {stations} stations available in this dataset.')"
   ]
  },
  {
   "cell_type": "code",
   "execution_count": 55,
   "metadata": {},
   "outputs": [
    {
     "name": "stdout",
     "output_type": "stream",
     "text": [
      "('USC00519281', 2772)\n",
      "('USC00519397', 2724)\n",
      "('USC00513117', 2709)\n",
      "('USC00519523', 2669)\n",
      "('USC00516128', 2612)\n",
      "('USC00514830', 2202)\n",
      "('USC00511918', 1979)\n",
      "('USC00517948', 1372)\n",
      "('USC00518838', 511)\n"
     ]
    }
   ],
   "source": [
    "# What are the most active stations? (i.e. what stations have the most rows)?\n",
    "# List the stations and the counts in descending order.\n",
    "\n",
    "active_stations = session.query(Measurement.station,\n",
    "                                 func.count(Measurement.station))\\\n",
    "                                .group_by(Measurement.station)\\\n",
    "                                .order_by(func.count(Measurement.station).desc())\n",
    "for row in active_stations:\n",
    "    print(row)\n"
   ]
  },
  {
   "cell_type": "code",
   "execution_count": 56,
   "metadata": {},
   "outputs": [
    {
     "name": "stdout",
     "output_type": "stream",
     "text": [
      "Station: USC00519281\n",
      "    Lowest temperature in dataset :  54.0\n",
      "    Highest temperture in dataset :  71.66378066378067\n",
      "    Average temperature in dataset :  85.0\n"
     ]
    }
   ],
   "source": [
    "# Using the station id from the previous query, calculate the lowest temperature recorded, \n",
    "# highest temperature recorded, and average temperature of the most active station?\n",
    "\n",
    "active_stat = active_stations[0][0]\n",
    "\n",
    "station = session.query(func.min(Measurement.tobs), func.avg(Measurement.tobs), func.max(Measurement.tobs)).\\\n",
    "                filter(Measurement.station == active_stat).all()\n",
    "\n",
    "print(f\"Station: {active_stat}\\n\\\n",
    "    Lowest temperature in dataset :  {station[0][0]}\\n\\\n",
    "    Highest temperture in dataset :  {station[0][1]}\\n\\\n",
    "    Average temperature in dataset :  {station[0][2]}\")"
   ]
  },
  {
   "cell_type": "code",
   "execution_count": 57,
   "metadata": {},
   "outputs": [
    {
     "data": {
      "image/png": "[encoded data removed]",
      "text/plain": [
       "<Figure size 432x288 with 1 Axes>"
      ]
     },
     "metadata": {
      "needs_background": "light"
     },
     "output_type": "display_data"
    }
   ],
   "source": [
    "# Choose the station with the highest number of temperature observations.\n",
    "# Query the last 12 months of temperature observation data for this station and plot the results as a histogram\n",
    "\n",
    "temp = session.query(Measurement.station, Measurement.date, Measurement.tobs).\\\n",
    "    filter(Measurement.station == active_stat).\\\n",
    "    filter(Measurement.date > query_date).\\\n",
    "    order_by(Measurement.date).all()\n",
    "\n",
    "temp_df=pd.DataFrame(temp)\n",
    "plt.hist(temp_df['tobs'],12)\n",
    "plt.xlabel(\"Temperature\")\n",
    "plt.ylabel(\"Frequency\")\n",
    "plt.title(\"Highest number of temperature observations\")\n",
    "plt.legend([\"tobs\"], loc=\"best\")\n",
    "\n",
    "plt.savefig(\"temp.png\")\n",
    "plt.show()"
   ]
  },
  {
   "cell_type": "markdown",
   "metadata": {},
   "source": [
    "## Bonus Challenge Assignment"
   ]
  },
  {
   "cell_type": "code",
   "execution_count": 63,
   "metadata": {},
   "outputs": [
    {
     "name": "stdout",
     "output_type": "stream",
     "text": [
      "[(62.0, 69.57142857142857, 74.0)]\n"
     ]
    }
   ],
   "source": [
    "# This function called `calc_temps` will accept start date and end date in the format '%Y-%m-%d' \n",
    "# and return the minimum, average, and maximum temperatures for that range of dates\n",
    "def calc_temps(start_date, end_date):\n",
    "    \"\"\"TMIN, TAVG, and TMAX for a list of dates.\n",
    "    \n",
    "    Args:\n",
    "        start_date (string): A date string in the format %Y-%m-%d\n",
    "        end_date (string): A date string in the format %Y-%m-%d\n",
    "        \n",
    "    Returns:\n",
    "        TMIN, TAVE, and TMAX\n",
    "    \"\"\"\n",
    "    \n",
    "    return session.query(func.min(Measurement.tobs), func.avg(Measurement.tobs), func.max(Measurement.tobs)).\\\n",
    "        filter(Measurement.date >= start_date).filter(Measurement.date <= end_date).all()\n",
    "\n",
    "# function usage example\n",
    "print(calc_temps('2012-02-28', '2012-03-05'))"
   ]
  },
  {
   "cell_type": "code",
   "execution_count": 68,
   "metadata": {},
   "outputs": [
    {
     "data": {
      "text/plain": [
       "[(62.0, 69.57142857142857, 74.0)]"
      ]
     },
     "execution_count": 68,
     "metadata": {},
     "output_type": "execute_result"
    }
   ],
   "source": [
    "# Use your previous function `calc_temps` to calculate the tmin, tavg, and tmax \n",
    "# for your trip using the previous year's data for those same dates.\n",
    "\n",
    "\n",
    "prev_trip = calc_temps('2012-02-28','2012-03-05')\n",
    "prev_trip\n"
   ]
  },
  {
   "cell_type": "code",
   "execution_count": 76,
   "metadata": {},
   "outputs": [
    {
     "data": {
      "image/png": "[encoded data removed]",
      "text/plain": [
       "<Figure size 216x432 with 1 Axes>"
      ]
     },
     "metadata": {
      "needs_background": "light"
     },
     "output_type": "display_data"
    }
   ],
   "source": [
    "# Plot the results from your previous query as a bar chart. \n",
    "# Use \"Trip Avg Temp\" as your Title\n",
    "# Use the average temperature for the y value\n",
    "# Use the peak-to-peak (tmax-tmin) value as the y error bar (yerr)\n",
    "\n",
    "min_temp = prev_trip[0][0]\n",
    "avg_temp = prev_trip[0][1]\n",
    "max_temp = prev_trip[0][2]\n",
    "\n",
    "min_error = avg_temp - min_temp\n",
    "max_error = max_temp - avg_temp\n",
    "\n",
    "plt.figure(figsize=(3,6))\n",
    "plt.bar(0, avg_temp, yerr=[max_temp-min_temp], color = 'yellow', alpha=.3)\n",
    "plt.title('Trip Avg Temp')\n",
    "plt.ylim(0,100)\n",
    "plt.ylabel('Temp (F)')\n",
    "plt.xticks([])\n",
    "\n",
    "plt.show()\n"
   ]
  },
  {
   "cell_type": "code",
   "execution_count": 77,
   "metadata": {},
   "outputs": [
    {
     "name": "stdout",
     "output_type": "stream",
     "text": [
      "[('USC00516128', 'MANOA LYON ARBO 785.2, HI US', 21.3331, -157.8025, 152.4, 0.31), ('USC00519281', 'WAIHEE 837.5, HI US', 21.45167, -157.84888999999998, 32.9, 0.25), ('USC00518838', 'UPPER WAHIAWA 874.3, HI US', 21.4992, -158.0111, 306.6, 0.1), ('USC00513117', 'KANEOHE 838.1, HI US', 21.4234, -157.8015, 14.6, 0.060000000000000005), ('USC00519523', 'WAIMANALO EXPERIMENTAL FARM, HI US', 21.33556, -157.71139, 19.5, 0.0), ('USC00519397', 'WAIKIKI 717.2, HI US', 21.2716, -157.8168, 3.0, 0.0), ('USC00517948', 'PEARL CITY, HI US', 21.3934, -157.9751, 11.9, 0.0), ('USC00514830', 'KUALOA RANCH HEADQUARTERS 886.9, HI US', 21.5213, -157.8374, 7.0, 0.0), ('USC00511918', 'HONOLULU OBSERVATORY 702.2, HI US', 21.3152, -157.9992, 0.9, 0.0)]\n"
     ]
    }
   ],
   "source": [
    "# Calculate the total amount of rainfall per weather station for your trip dates using the previous year's matching dates.\n",
    "# Sort this in descending order by precipitation amount and list the station, name, latitude, longitude, and elevation\n",
    "\n",
    "start_date = '2012-01-01'\n",
    "end_date = '2012-01-07'\n",
    "\n",
    "sel = [Station.station, Station.name, Station.latitude, \n",
    "       Station.longitude, Station.elevation, func.sum(Measurement.prcp)]\n",
    "\n",
    "results = session.query(*sel).\\\n",
    "    filter(Measurement.station == Station.station).\\\n",
    "    filter(Measurement.date >= start_date).\\\n",
    "    filter(Measurement.date <= end_date).\\\n",
    "    group_by(Station.name).order_by(func.sum(Measurement.prcp).desc()).all()\n",
    "print(results)"
   ]
  },
  {
   "cell_type": "code",
   "execution_count": 78,
   "metadata": {},
   "outputs": [
    {
     "data": {
      "text/plain": [
       "[(62.0, 69.15384615384616, 77.0)]"
      ]
     },
     "execution_count": 78,
     "metadata": {},
     "output_type": "execute_result"
    }
   ],
   "source": [
    "# Create a query that will calculate the daily normals \n",
    "# (i.e. the averages for tmin, tmax, and tavg for all historic data matching a specific month and day)\n",
    "\n",
    "def daily_normals(date):\n",
    "    \"\"\"Daily Normals.\n",
    "    \n",
    "    Args:\n",
    "        date (str): A date string in the format '%m-%d'\n",
    "        \n",
    "    Returns:\n",
    "        A list of tuples containing the daily normals, tmin, tavg, and tmax\n",
    "    \n",
    "    \"\"\"\n",
    "    \n",
    "    sel = [func.min(Measurement.tobs), func.avg(Measurement.tobs), func.max(Measurement.tobs)]\n",
    "    return session.query(*sel).filter(func.strftime(\"%m-%d\", Measurement.date) == date).all()\n",
    "    \n",
    "daily_normals(\"01-01\")"
   ]
  },
  {
   "cell_type": "code",
   "execution_count": 105,
   "metadata": {},
   "outputs": [
    {
     "data": {
      "text/plain": [
       "[(62.0, 69.15384615384616, 77.0),\n",
       " (60.0, 69.39622641509433, 77.0),\n",
       " (62.0, 68.9090909090909, 77.0),\n",
       " (58.0, 70.0, 76.0),\n",
       " (56.0, 67.96428571428571, 76.0),\n",
       " (61.0, 68.96491228070175, 76.0),\n",
       " (57.0, 68.54385964912281, 76.0)]"
      ]
     },
     "execution_count": 105,
     "metadata": {},
     "output_type": "execute_result"
    }
   ],
   "source": [
    "# calculate the daily normals for your trip\n",
    "def daily_normals(date):\n",
    "    \"\"\"Daily Normals.\n",
    "    \n",
    "    Args:\n",
    "        date (str): A date string in the format '%m-%d'\n",
    "        \n",
    "    Returns:\n",
    "        A list of tuples containing the daily normals, tmin, tavg, and tmax\n",
    "    \n",
    "    \"\"\"\n",
    "    sel = [func.min(Measurement.tobs), func.avg(Measurement.tobs), func.max(Measurement.tobs)]\n",
    "    return session.query(*sel).filter(func.strftime(\"%m-%d\", Measurement.date) == date).all()\n",
    "    \n",
    "daily_normals(\"01-01\")\n",
    "\n",
    "trip_start = '2018-01-01'\n",
    "trip_end = '2018-01-07'\n",
    "\n",
    "# Use the start and end date to create a range of dates\n",
    "trip_dates = pd.date_range(trip_start, trip_end, freq='D')\n",
    "\n",
    "\n",
    "# Stip off the year and save a list of %m-%d strings\n",
    "trip_month_day = trip_dates.strftime('%m-%d')\n",
    "\n",
    "# Loop through the list of %m-%d strings and calculate the normals for each date\n",
    "normals = []\n",
    "for date in trip_month_day:\n",
    "    normals.append(*daily_normals(date))\n",
    "    \n",
    "normals"
   ]
  },
  {
   "cell_type": "code",
   "execution_count": 99,
   "metadata": {},
   "outputs": [
    {
     "data": {
      "text/html": [
       "<div>\n",
       "<style scoped>\n",
       "    .dataframe tbody tr th:only-of-type {\n",
       "        vertical-align: middle;\n",
       "    }\n",
       "\n",
       "    .dataframe tbody tr th {\n",
       "        vertical-align: top;\n",
       "    }\n",
       "\n",
       "    .dataframe thead th {\n",
       "        text-align: right;\n",
       "    }\n",
       "</style>\n",
       "<table border=\"1\" class=\"dataframe\">\n",
       "  <thead>\n",
       "    <tr style=\"text-align: right;\">\n",
       "      <th></th>\n",
       "      <th>tmin</th>\n",
       "      <th>tavg</th>\n",
       "      <th>tmax</th>\n",
       "    </tr>\n",
       "    <tr>\n",
       "      <th>date</th>\n",
       "      <th></th>\n",
       "      <th></th>\n",
       "      <th></th>\n",
       "    </tr>\n",
       "  </thead>\n",
       "  <tbody>\n",
       "    <tr>\n",
       "      <td>2018-01-01</td>\n",
       "      <td>62.0</td>\n",
       "      <td>69.153846</td>\n",
       "      <td>77.0</td>\n",
       "    </tr>\n",
       "    <tr>\n",
       "      <td>2018-01-02</td>\n",
       "      <td>60.0</td>\n",
       "      <td>69.396226</td>\n",
       "      <td>77.0</td>\n",
       "    </tr>\n",
       "    <tr>\n",
       "      <td>2018-01-03</td>\n",
       "      <td>62.0</td>\n",
       "      <td>68.909091</td>\n",
       "      <td>77.0</td>\n",
       "    </tr>\n",
       "    <tr>\n",
       "      <td>2018-01-04</td>\n",
       "      <td>58.0</td>\n",
       "      <td>70.000000</td>\n",
       "      <td>76.0</td>\n",
       "    </tr>\n",
       "    <tr>\n",
       "      <td>2018-01-05</td>\n",
       "      <td>56.0</td>\n",
       "      <td>67.964286</td>\n",
       "      <td>76.0</td>\n",
       "    </tr>\n",
       "  </tbody>\n",
       "</table>\n",
       "</div>"
      ],
      "text/plain": [
       "            tmin       tavg  tmax\n",
       "date                             \n",
       "2018-01-01  62.0  69.153846  77.0\n",
       "2018-01-02  60.0  69.396226  77.0\n",
       "2018-01-03  62.0  68.909091  77.0\n",
       "2018-01-04  58.0  70.000000  76.0\n",
       "2018-01-05  56.0  67.964286  76.0"
      ]
     },
     "execution_count": 99,
     "metadata": {},
     "output_type": "execute_result"
    }
   ],
   "source": [
    "# Load the previous query results into a Pandas DataFrame and add the `trip_dates` range as the `date` index\n",
    "\n",
    "df = pd.DataFrame(normals, columns=['tmin', 'tavg', 'tmax'])\n",
    "df['date'] = trip_dates\n",
    "df.set_index(['date'],inplace=True)\n",
    "df.head()"
   ]
  },
  {
   "cell_type": "code",
   "execution_count": 103,
   "metadata": {},
   "outputs": [
    {
     "data": {
      "image/png": "[encoded data removed]",
      "text/plain": [
       "<Figure size 432x288 with 1 Axes>"
      ]
     },
     "metadata": {
      "needs_background": "light"
     },
     "output_type": "display_data"
    }
   ],
   "source": [
    "# Plot the daily normals as an area plot with `stacked=False`\n",
    "\n",
    "df.plot(kind='area', stacked=False, x_compat=True, alpha=.3)\n",
    "plt.xlabel(\"Date\")\n",
    "plt.ylabel(\"Temperature\")\n",
    "plt.tight_layout()"
   ]
  },
  {
   "cell_type": "code",
   "execution_count": null,
   "metadata": {},
   "outputs": [],
   "source": []
  },
  {
   "cell_type": "code",
   "execution_count": null,
   "metadata": {},
   "outputs": [],
   "source": []
  },
  {
   "cell_type": "code",
   "execution_count": null,
   "metadata": {},
   "outputs": [],
   "source": []
  }
 ],
 "metadata": {
  "kernel_info": {
   "name": "python3"
  },
  "kernelspec": {
   "display_name": "Python 3",
   "language": "python",
   "name": "python3"
  },
  "language_info": {
   "codemirror_mode": {
    "name": "ipython",
    "version": 3
   },
   "file_extension": ".py",
   "mimetype": "text/x-python",
   "name": "python",
   "nbconvert_exporter": "python",
   "pygments_lexer": "ipython3",
   "version": "3.7.4"
  },
  "nteract": {
   "version": "0.12.3"
  },
  "varInspector": {
   "cols": {
    "lenName": 16,
    "lenType": 16,
    "lenVar": 40
   },
   "kernels_config": {
    "python": {
     "delete_cmd_postfix": "",
     "delete_cmd_prefix": "del ",
     "library": "var_list.py",
     "varRefreshCmd": "print(var_dic_list())"
    },
    "r": {
     "delete_cmd_postfix": ") ",
     "delete_cmd_prefix": "rm(",
     "library": "var_list.r",
     "varRefreshCmd": "cat(var_dic_list()) "
    }
   },
   "types_to_exclude": [
    "module",
    "function",
    "builtin_function_or_method",
    "instance",
    "_Feature"
   ],
   "window_display": false
  }
 },
 "nbformat": 4,
 "nbformat_minor": 2
}
